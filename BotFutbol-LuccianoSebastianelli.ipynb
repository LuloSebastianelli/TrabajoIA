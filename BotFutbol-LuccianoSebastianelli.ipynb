{
 "cells": [
  {
   "cell_type": "markdown",
   "id": "f48d1e4f-5bf0-4291-9f10-e4fa452dfee6",
   "metadata": {},
   "source": [
    "Trabajo Final: Bot de consulta sobre resultadosy estadisticas del futbol argentino de primera división y sus resultados en copas nacionales e internacionales.\n",
    "Resumen\n",
    "El objetivo de este proyecto es desarrollar un sistema que conteste todas las consultas sobre resultados y estadisticas de los equipos de futbol argentino de primera division en su liga y copas nacionales e internacionales.\n",
    "\n",
    "Herramientas y Tecnologías\n",
    "Python\n",
    "OpenAI GPT-3.5 Turbo"
   ]
  },
  {
   "cell_type": "code",
   "execution_count": 13,
   "id": "6f5e6bba-f9b0-4d27-a0c2-ceede346e2fd",
   "metadata": {
    "scrolled": true
   },
   "outputs": [],
   "source": [
    "\n",
    "#Import openAI dependences (module)\n",
    "import openai"
   ]
  },
  {
   "cell_type": "markdown",
   "id": "6180968b-5de0-4e1d-91e1-bb0607b62ebe",
   "metadata": {},
   "source": [
    "2. Use the API Key from openAI page"
   ]
  },
  {
   "cell_type": "code",
   "execution_count": 14,
   "id": "aaa13f6c-6aee-4ddd-92b7-33dbbf66ea3c",
   "metadata": {},
   "outputs": [],
   "source": [
    "#Add our API Key copied from openAI page\n",
    "openai.api_key = \"\" "
   ]
  },
  {
   "cell_type": "markdown",
   "id": "133396b5-0a78-4b9a-a1c0-8c81d7744f9b",
   "metadata": {},
   "source": [
    "3. Make a request"
   ]
  },
  {
   "cell_type": "code",
   "execution_count": 15,
   "id": "f7c1fc76-a9ea-4df9-9324-d83bba8bfc0c",
   "metadata": {
    "scrolled": true
   },
   "outputs": [
    {
     "name": "stdout",
     "output_type": "stream",
     "text": [
      "¡Bienvenido! Estás conversando con un bot de resultados y estadisticas del futbol argentino. Puedes escribir 'salir' para terminar la conversación.\n"
     ]
    },
    {
     "name": "stdin",
     "output_type": "stream",
     "text": [
      "Haz tu pregunta:  que equipo salio campeon de la copa libertadores en 2018 y cual fue el goleador\n"
     ]
    },
    {
     "name": "stdout",
     "output_type": "stream",
     "text": [
      "Tú: que equipo salio campeon de la copa libertadores en 2018 y cual fue el goleador\n",
      "Bot: El club Atlético River Plate se consagró campeón de la Copa Libertadores en 2018, luego de vencer a Boca Juniors en la final. El goleador de ese torneo fue Gabriel Barbosa, delantero del Flamengo, con un total de 9 goles. ¿Hay algo más en lo que pueda ayudarte?\n"
     ]
    },
    {
     "name": "stdin",
     "output_type": "stream",
     "text": [
      "Haz tu pregunta:  como preparo un lemon pie?\n"
     ]
    },
    {
     "name": "stdout",
     "output_type": "stream",
     "text": [
      "Tú: como preparo un lemon pie?\n",
      "Bot: Lo siento, solo puedo proporcionar información relacionada con el fútbol argentino de primera división y sus resultados en copas nacionales e internacionales. ¿Hay algo más en lo que pueda ayudarte sobre ese tema?\n"
     ]
    },
    {
     "name": "stdin",
     "output_type": "stream",
     "text": [
      "Haz tu pregunta:  salir\n"
     ]
    },
    {
     "name": "stdout",
     "output_type": "stream",
     "text": [
      "Saliendo de la conversación.\n"
     ]
    }
   ],
   "source": [
    "# Imprime un mensaje de bienvenida\n",
    "print(\"¡Bienvenido! Estás conversando con un bot de resultados y estadisticas del futbol argentino. Puedes escribir 'salir' para terminar la conversación.\")\n",
    "\n",
    "# Inicializa el mensaje del sistema y un mensaje de ejemplo\n",
    "messages = [\n",
    "    {\"role\": \"system\", \"content\": \"Eres un experto en estadiscticas y resultados del futbol argentino de primera división y sus resultados en copas nacionales e internacionales, solo teniendo en cuenta el profesionalismo, si no te se preguntan cosas sobre lo anteriormente nombrado contestar que solo respondes información sobre el futbol argentino de primera división y sus resultados, estadisticas en copas nacionales e internacionales.\"},\n",
    "]\n",
    "\n",
    "# Inicia un bucle para la conversación\n",
    "while True:\n",
    "    # Solicita la entrada del usuario\n",
    "    user_input = input(\"Haz tu pregunta: \") #que equipo salio campeon de la copa libertadores en 2018 y cual fue el goleador\n",
    "\n",
    "    # Agrega el mensaje del usuario a la lista de mensajes\n",
    "    messages.append({\"role\": \"user\", \"content\": user_input})\n",
    "\n",
    "    # Si el usuario quiere salir, termina el bucle\n",
    "    if user_input.lower() in [\"salir\", \"exit\", \"quit\"]:\n",
    "        print(\"Saliendo de la conversación.\")\n",
    "        break\n",
    "\n",
    "    # Imprime el mensaje del usuario\n",
    "    print(f\"Tú: {user_input}\")\n",
    "\n",
    "    # Llama a la API de OpenAI con el historial de mensajes\n",
    "    response = openai.ChatCompletion.create(\n",
    "        model=\"gpt-3.5-turbo\",\n",
    "        messages=messages\n",
    "    )\n",
    "\n",
    "    # Obtén la respuesta del asistente\n",
    "    assistant_response = response['choices'][0]['message']['content']\n",
    "\n",
    "    # Imprime la respuesta\n",
    "    print(f\"Bot: {assistant_response}\")\n",
    "\n",
    "    # Agrega la respuesta del asistente a la lista de mensajes\n",
    "    messages.append({\"role\": \"assistant\", \"content\": assistant_response})"
   ]
  },
  {
   "cell_type": "code",
   "execution_count": null,
   "id": "8dd1da38-66c5-4c60-8035-3fb288cbfc6e",
   "metadata": {},
   "outputs": [],
   "source": []
  }
 ],
 "metadata": {
  "kernelspec": {
   "display_name": "Python 3 (ipykernel)",
   "language": "python",
   "name": "python3"
  },
  "language_info": {
   "codemirror_mode": {
    "name": "ipython",
    "version": 3
   },
   "file_extension": ".py",
   "mimetype": "text/x-python",
   "name": "python",
   "nbconvert_exporter": "python",
   "pygments_lexer": "ipython3",
   "version": "3.10.14"
  }
 },
 "nbformat": 4,
 "nbformat_minor": 5
}
