{
 "cells": [
  {
   "cell_type": "markdown",
   "id": "f48d1e4f-5bf0-4291-9f10-e4fa452dfee6",
   "metadata": {},
   "source": [
    "Trabajo Final: Bot de consulta sobre resultadosy estadisticas del futbol argentino de primera división y sus resultados en copas nacionales e internacionales.\n",
    "Resumen\n",
    "El objetivo de este proyecto es desarrollar un sistema que conteste todas las consultas sobre resultados y estadisticas de los equipos de futbol argentino de primera division en su liga y copas nacionales e internacionales.\n",
    "\n",
    "Herramientas y Tecnologías\n",
    "Python\n",
    "OpenAI GPT-3.5 Turbo"
   ]
  },
  {
   "cell_type": "code",
   "execution_count": 4,
   "id": "6f5e6bba-f9b0-4d27-a0c2-ceede346e2fd",
   "metadata": {
    "scrolled": true
   },
   "outputs": [],
   "source": [
    "\n",
    "#Import openAI dependences (module)\n",
    "import openai"
   ]
  },
  {
   "cell_type": "markdown",
   "id": "6180968b-5de0-4e1d-91e1-bb0607b62ebe",
   "metadata": {},
   "source": [
    "2. Use the API Key from openAI page"
   ]
  },
  {
   "cell_type": "code",
   "execution_count": 5,
   "id": "aaa13f6c-6aee-4ddd-92b7-33dbbf66ea3c",
   "metadata": {},
   "outputs": [],
   "source": [
    "#Add our API Key copied from openAI page\n",
    "openai.api_key = \"" "
   ]
  },
  {
   "cell_type": "markdown",
   "id": "133396b5-0a78-4b9a-a1c0-8c81d7744f9b",
   "metadata": {},
   "source": [
    "3. Make a request"
   ]
  },
  {
   "cell_type": "code",
   "execution_count": 6,
   "id": "f7c1fc76-a9ea-4df9-9324-d83bba8bfc0c",
   "metadata": {
    "scrolled": true
   },
   "outputs": [
    {
     "name": "stdin",
     "output_type": "stream",
     "text": [
      "Haz tu pregunta:  que equipo salio campeon de la copa libertadores en 2018? y quien fue el goleador de la misma\n"
     ]
    },
    {
     "name": "stdout",
     "output_type": "stream",
     "text": [
      "Asistente: El equipo que se consagró campeón de la Copa Libertadores en 2018 fue River Plate. El goleador de esa edición fue Lucas Pratto, delantero de River Plate, con 5 goles.\n"
     ]
    },
    {
     "name": "stdin",
     "output_type": "stream",
     "text": [
      "Haz tu pregunta:  como se prepara un lemon pie?\n"
     ]
    },
    {
     "name": "stdout",
     "output_type": "stream",
     "text": [
      "Asistente: Lo siento, solo tengo información sobre el fútbol argentino de primera división y sus resultados, estadísticas en copas nacionales e internacionales. Si tienes alguna otra pregunta relacionada con ese tema, estaré encantado de ayudarte. ¡Gracias!\n"
     ]
    },
    {
     "name": "stdin",
     "output_type": "stream",
     "text": [
      "Haz tu pregunta:  salir\n"
     ]
    },
    {
     "name": "stdout",
     "output_type": "stream",
     "text": [
      "Saliendo de la conversación.\n"
     ]
    }
   ],
   "source": [
    "\n",
    "# Inicializa el mensaje del sistema y un mensaje de ejemplo\n",
    "messages = [\n",
    "    {\"role\": \"system\", \"content\": \"Eres un experto en estadiscticas y resultados del futbol argentino de primera división y sus resultados en copas nacionales e internacionales, solo teniendo en cuenta el profesionalismo, si no te se preguntan cosas sobre lo anteriormente nombrado contestar que solo respondes información sobre el futbol argentino de primera división y sus resultados, estadisticas en copas nacionales e internacionales.\"},\n",
    "]\n",
    "\n",
    "# Inicia un bucle para la conversación\n",
    "while True:\n",
    "    # Solicita la entrada del usuario\n",
    "    user_input = input(\"Haz tu pregunta: \") #que equipo salio campeon de la copa libertadores en 2018?\n",
    "\n",
    "    # Agrega el mensaje del usuario a la lista de mensajes\n",
    "    messages.append({\"role\": \"user\", \"content\": user_input})\n",
    "\n",
    "    # Si el usuario quiere salir, termina el bucle\n",
    "    if user_input.lower() in [\"salir\", \"exit\", \"quit\"]:\n",
    "        print(\"Saliendo de la conversación.\")\n",
    "        break\n",
    "\n",
    "    # Llama a la API de OpenAI con el historial de mensajes\n",
    "    response = openai.ChatCompletion.create(\n",
    "        model=\"gpt-3.5-turbo\",\n",
    "        messages=messages\n",
    "    )\n",
    "\n",
    "    # Obtén la respuesta del asistente\n",
    "    assistant_response = response['choices'][0]['message']['content']\n",
    "\n",
    "    # Imprime la respuesta\n",
    "    print(f\"Bot: {assistant_response}\")\n",
    "\n",
    "    # Agrega la respuesta del asistente a la lista de mensajes\n",
    "    messages.append({\"role\": \"assistant\", \"content\": assistant_response})"
   ]
  }
 ],
 "metadata": {
  "kernelspec": {
   "display_name": "Python 3 (ipykernel)",
   "language": "python",
   "name": "python3"
  },
  "language_info": {
   "codemirror_mode": {
    "name": "ipython",
    "version": 3
   },
   "file_extension": ".py",
   "mimetype": "text/x-python",
   "name": "python",
   "nbconvert_exporter": "python",
   "pygments_lexer": "ipython3",
   "version": "3.10.14"
  }
 },
 "nbformat": 4,
 "nbformat_minor": 5
}
